{
 "cells": [
  {
   "cell_type": "code",
   "execution_count": 1,
   "metadata": {
    "autoscroll": false,
    "ein.hycell": false,
    "ein.tags": "worksheet-0",
    "slideshow": {
     "slide_type": "-"
    }
   },
   "outputs": [],
   "source": [
    "import pathlib\n",
    "import scipy.constants\n",
    "from matplotlib.backends.backend_pgf import FigureCanvasPgf\n",
    "import matplotlib as mpl\n",
    "import io\n",
    "# mpl.backend_bases.register_backend('pdf', FigureCanvasPgf)\n",
    "# # mpl.use(\"pgf\")\n",
    "# pgf_with_custom_preamble = {\n",
    "#   \"pgf.texsystem\": \"lualatex\",\n",
    "# #  'text.usetex': True,\n",
    "# #  'text.latex.unicode': True,\n",
    "#   'pgf.rcfonts': False,\n",
    "#   \"pgf.preamble\": [\n",
    "#          r'\\usepackage[T1]{fontenc}',\n",
    "# #         r'\\usepackage{tgtermes}',\n",
    "# #         r'\\usepackage{amsmath}',\n",
    "#          r'\\usepackage[subscriptcorrection,amssymbols,mtpbb,mtpcal,nofontinfo]{mtpro2}',  # unicode math setup\n",
    "# #        \"\\\\usepackage{scalefnt}\",\n",
    "# #        \"\\\\usepackage[scaled=0.92]{PTSans}\",\n",
    "# #    \"\\\\usepackage[utf8]{inputenc}\",\n",
    "# #      \"\\\\DeclareUnicodeCharacter{2212}{$-$}\"\n",
    "#     ]}\n",
    "# mpl.rcParams.update(pgf_with_custom_preamble)\n",
    "import numpy as np\n",
    "import pandas as pd\n",
    "import matplotlib.pyplot as plt\n",
    "import seaborn as sns\n",
    "import collections\n",
    "\n",
    "font_size=30\n",
    "sns.set_style('white')\n",
    "sns.set_context(\"talk\", font_scale=1.0, rc={'lines.linewidth': 10,\n",
    "                                             'axes.linewidth': 3,\n",
    "                                             'font.size': font_size,\n",
    "                                             'axes.labelsize': font_size,\n",
    "                                             'xtick.labelsize': font_size,\n",
    "                                             'ytick.labelsize': font_size,\n",
    "                                             'legend.fontsize': font_size,\n",
    "                                             'text.usetex': True,\n",
    "                                             'font.family': 'sans-serif',\n",
    "                                            'axes.axisbelow': True,\n",
    "                                             })"
   ]
  },
  {
   "cell_type": "code",
   "execution_count": 2,
   "metadata": {
    "autoscroll": false,
    "ein.hycell": false,
    "ein.tags": "worksheet-0",
    "slideshow": {
     "slide_type": "-"
    }
   },
   "outputs": [],
   "source": [
    "import scipy.integrate"
   ]
  },
  {
   "cell_type": "code",
   "execution_count": 3,
   "metadata": {
    "autoscroll": false,
    "ein.hycell": false,
    "ein.tags": "worksheet-0",
    "slideshow": {
     "slide_type": "-"
    }
   },
   "outputs": [],
   "source": [
    "string = \"\"\"-6.9399999999999995\n",
    "-3.4699999999999998\n",
    "-2.3933333333333335\n",
    "-2.1200000000000001\n",
    "-2.0419999999999998\n",
    "-2.0150000000000001\n",
    "-2.0071428571428571\n",
    "-2.0037500000000001\n",
    "-2.0022222222222226\n",
    "-2.0009999999999999\"\"\"\n",
    "df = pd.read_csv(io.StringIO(string), header=None)\n",
    "beta = np.linspace(0.1, 1.0, 10)"
   ]
  },
  {
   "cell_type": "code",
   "execution_count": 4,
   "metadata": {
    "autoscroll": false,
    "ein.hycell": false,
    "ein.tags": "worksheet-0",
    "slideshow": {
     "slide_type": "-"
    }
   },
   "outputs": [],
   "source": [
    "def ising_exact_free_energy(beta, J_horizontal, J_vertical):\n",
    "  \"\"\"Calculate exact free energy per site.\n",
    "\n",
    "  https://en.wikipedia.org/wiki/Square-lattice_Ising_model\n",
    "  \"\"\"\n",
    "  K = beta * J_horizontal\n",
    "  L = beta * J_vertical\n",
    "  cosh2Kcosh2L = np.cosh(2 * K) * np.cosh(2 * L)\n",
    "  k = 1 / (np.sinh(2 * K) * np.sinh(2 * L))\n",
    "  def theta_integrand(theta):\n",
    "    \"\"\"Integrand in expression for free energy of square lattice.\"\"\"\n",
    "    return np.log(cosh2Kcosh2L +\n",
    "                  1 / k * np.sqrt(1 + k ** 2 - 2 * k * np.cos(2 * theta)))\n",
    "  integral, _ = scipy.integrate.quad(theta_integrand, 0, np.pi)\n",
    "  F = np.log(2) / 2 + 1 / (2 * np.pi) * integral\n",
    "  return -F / beta"
   ]
  },
  {
   "cell_type": "code",
   "execution_count": 5,
   "metadata": {
    "autoscroll": false,
    "ein.hycell": false,
    "ein.tags": "worksheet-0",
    "slideshow": {
     "slide_type": "-"
    }
   },
   "outputs": [
    {
     "data": {
      "text/plain": [
       "-2.0003482837007103"
      ]
     },
     "execution_count": 5,
     "metadata": {},
     "output_type": "execute_result"
    }
   ],
   "source": [
    "ising_exact_free_energy(1, 1, 1)"
   ]
  },
  {
   "cell_type": "code",
   "execution_count": 6,
   "metadata": {
    "autoscroll": false,
    "ein.hycell": false,
    "ein.tags": "worksheet-0",
    "slideshow": {
     "slide_type": "-"
    }
   },
   "outputs": [],
   "source": [
    "path = pathlib.Path('/Users/jaan/log/transfer_tigergpu/vi-for-physics/ising-256x256-beta-many-samples-print')\n",
    "df = pd.DataFrame(data=dict(), columns=['beta', 'hier_elbo', 'free_energy_bound'])\n",
    "for f in path.rglob('./*/log.csv'):\n",
    "  file_df = pd.read_csv(f, header=None, names=['step', 'hier_elbo', 'free_energy_bound', 'learning_rate'])\n",
    "  beta = float(str(f.parent)[-3:])\n",
    "  file_df['beta'] = beta\n",
    "  lr = float(str(f.parent).split('=')[1].split('_')[0])\n",
    "  file_df['learning_rate'] = lr\n",
    "  df = pd.concat([df, file_df], sort=False, ignore_index=True)"
   ]
  },
  {
   "cell_type": "code",
   "execution_count": 8,
   "metadata": {
    "autoscroll": false,
    "ein.hycell": false,
    "ein.tags": "worksheet-0",
    "slideshow": {
     "slide_type": "-"
    }
   },
   "outputs": [
    {
     "name": "stderr",
     "output_type": "stream",
     "text": [
      "/usr/local/anaconda3/lib/python3.6/site-packages/pandas/core/frame.py:6211: FutureWarning: Sorting because non-concatenation axis is not aligned. A future version\n",
      "of pandas will change to not sort by default.\n",
      "\n",
      "To accept the future behavior, pass 'sort=False'.\n",
      "\n",
      "To retain the current behavior and silence the warning, pass 'sort=True'.\n",
      "\n",
      "  sort=sort)\n"
     ]
    }
   ],
   "source": [
    "### GIVES okay plot for 1e-5 learning rate...\n",
    "path = pathlib.Path('/Users/jaan/log/transfer_tigergpu/vi-for-physics/ising-256x256-beta-many-samples-print')\n",
    "df = pd.DataFrame(data=dict(), columns=['beta', 'hier_elbo', 'free_energy_bound'])\n",
    "for f in path.rglob('./*/log.csv'):\n",
    "  file_df = pd.read_csv(f, header=None, names=['step', 'hier_elbo', 'free_energy_bound', 'learning_rate'], index_col=0)\n",
    "  beta = float(str(f.parent)[-3:])\n",
    "  file_df['beta'] = beta\n",
    "  lr = float(str(f.parent).split('=')[1].split('_')[0])\n",
    "  file_df['learning_rate'] = lr\n",
    "  df = df.append(file_df)"
   ]
  },
  {
   "cell_type": "code",
   "execution_count": 7,
   "metadata": {
    "autoscroll": false,
    "ein.hycell": false,
    "ein.tags": "worksheet-0",
    "slideshow": {
     "slide_type": "-"
    }
   },
   "outputs": [],
   "source": [
    "df = pd.DataFrame(data)"
   ]
  },
  {
   "cell_type": "code",
   "execution_count": 9,
   "metadata": {
    "autoscroll": false,
    "ein.hycell": false,
    "ein.tags": "worksheet-0",
    "slideshow": {
     "slide_type": "-"
    }
   },
   "outputs": [
    {
     "ename": "NameError",
     "evalue": "name 'sorted_df' is not defined",
     "output_type": "error",
     "traceback": [
      "\u001b[0;31m\u001b[0m",
      "\u001b[0;31mNameError\u001b[0mTraceback (most recent call last)",
      "\u001b[0;32m<ipython-input-9-bf3a67a2b37e>\u001b[0m in \u001b[0;36m<module>\u001b[0;34m\u001b[0m\n\u001b[1;32m     18\u001b[0m   \u001b[0mplt\u001b[0m\u001b[0;34m.\u001b[0m\u001b[0msavefig\u001b[0m\u001b[0;34m(\u001b[0m\u001b[0mfname\u001b[0m\u001b[0;34m,\u001b[0m \u001b[0mbbox_inches\u001b[0m\u001b[0;34m=\u001b[0m\u001b[0;34m'tight'\u001b[0m\u001b[0;34m)\u001b[0m\u001b[0;34m\u001b[0m\u001b[0;34m\u001b[0m\u001b[0m\n\u001b[1;32m     19\u001b[0m \u001b[0;34m\u001b[0m\u001b[0m\n\u001b[0;32m---> 20\u001b[0;31m \u001b[0mmake_plot\u001b[0m\u001b[0;34m(\u001b[0m\u001b[0msorted_df\u001b[0m\u001b[0;34m,\u001b[0m \u001b[0mlabel\u001b[0m\u001b[0;34m=\u001b[0m\u001b[0;34mr'$L=256$'\u001b[0m\u001b[0;34m,\u001b[0m \u001b[0mfname\u001b[0m\u001b[0;34m=\u001b[0m\u001b[0;34m'../../talk/fig/hvm_vs_exact_L=256_lr=1e-5.pdf'\u001b[0m\u001b[0;34m)\u001b[0m\u001b[0;34m\u001b[0m\u001b[0;34m\u001b[0m\u001b[0m\n\u001b[0m",
      "\u001b[0;31mNameError\u001b[0m: name 'sorted_df' is not defined"
     ]
    }
   ],
   "source": [
    "def make_plot(sorted_df, label, fname, ylim=[-2.20, -1.98]):\n",
    "  sorted_df.beta = sorted_df.beta.astype(float)\n",
    "  beta_fine = np.linspace(sorted_df.beta.min(), sorted_df.beta.max(), 100)\n",
    "  exact_free_energy = [ising_exact_free_energy(x, 1, 1) for x in beta_fine]\n",
    "  fig, ax = plt.subplots(figsize=(5 * 1.618, 5))\n",
    "  ax.plot(beta_fine, exact_free_energy, label='Exact')\n",
    "  ax.plot(sorted_df.beta, sorted_df.free_energy_bound, '.', markersize=20, label=label)\n",
    "  ax.set_xlim([0.3, 1.05])\n",
    "  ax.set_ylim(ylim)\n",
    "  ax.set(xlabel=r'$\\beta$')\n",
    "  ax.set(ylabel=r'Free energy')\n",
    "  ax.yaxis.grid()\n",
    "  sns.despine(right=True, top=True, left=True)\n",
    "  handles,labels = ax.get_legend_handles_labels()\n",
    "  handles = handles[::-1]\n",
    "  labels = labels[::-1]\n",
    "  ax.legend(handles, labels, frameon=False, handlelength=0.5)\n",
    "  plt.savefig(fname, bbox_inches='tight')\n",
    "\n"
   ]
  },
  {
   "cell_type": "code",
   "execution_count": 12,
   "metadata": {
    "autoscroll": false,
    "ein.hycell": false,
    "ein.tags": "worksheet-0",
    "slideshow": {
     "slide_type": "-"
    }
   },
   "outputs": [
    {
     "data": {
      "image/png": "[encoded data removed]",
      "text/plain": [
       "<Figure size 582.48x360 with 1 Axes>"
      ]
     },
     "metadata": {},
     "output_type": "display_data"
    }
   ],
   "source": [
    "data = dict(beta=[0.4, 0.5, 0.6, 0.7, 0.8, 0.9, 1.0],\n",
    "            free_energy_bound=[-1.61, -1.289, -1.096, -1.086, -1.989, -1.991, -1.997])\n",
    "df = pd.DataFrame(data)\n",
    "make_plot(df, label=r'$L=16', fname='../../doc/notes/hierarchical-elbo/fig/L=16_beta_grid.pdf')"
   ]
  },
  {
   "cell_type": "code",
   "execution_count": 7,
   "metadata": {
    "autoscroll": false,
    "ein.hycell": false,
    "ein.tags": "worksheet-0",
    "slideshow": {
     "slide_type": "-"
    }
   },
   "outputs": [],
   "source": [
    "def get_dataframe(path, grid_columns):\n",
    "  path = pathlib.Path(path)\n",
    "  columns = ['hier_elbo', 'hier_elbo_std', 'free_energy_bound', 'free_energy_bound_std']\n",
    "  df = pd.DataFrame(data=dict(), columns=columns + grid_columns)\n",
    "  for f in path.rglob('./*/log.csv'):\n",
    "    file_df = pd.read_csv(f, header=None, names=['step'] + columns)\n",
    "    for column in grid_columns:\n",
    "      lst = str(f.parent).split(column + '=')\n",
    "      file_df[column] = lst[1].split('_')[0]\n",
    "    df = pd.concat([df, file_df], sort=False, ignore_index=True)\n",
    "  return df"
   ]
  },
  {
   "cell_type": "code",
   "execution_count": 69,
   "metadata": {
    "autoscroll": false,
    "ein.hycell": false,
    "ein.tags": "worksheet-0",
    "slideshow": {
     "slide_type": "-"
    }
   },
   "outputs": [],
   "source": [
    "grid_columns = ['system_size', 'hidden_size', 'beta']\n",
    "df = get_dataframe('/Users/jaan/log/transfer_tigergpu/vi-for-physics/2019-02-12/ising-16x16-grid-all-beta', grid_columns)"
   ]
  },
  {
   "cell_type": "code",
   "execution_count": 70,
   "metadata": {
    "autoscroll": false,
    "ein.hycell": false,
    "ein.tags": "worksheet-0",
    "slideshow": {
     "slide_type": "-"
    }
   },
   "outputs": [
    {
     "data": {
      "text/plain": [
       "        hier_elbo  hier_elbo_std  free_energy_bound  free_energy_bound_std  \\\n",
       "10796  216.714760       0.246917          -2.116355               0.002411   \n",
       "9198   260.978407       0.129572          -2.038894               0.001012   \n",
       "20001  309.314717       0.080865          -2.013768               0.000526   \n",
       "22381  359.275160       0.062779          -2.004884               0.000350   \n",
       "18251  409.917508       0.059002          -2.001550               0.000288   \n",
       "23265  460.858610       0.064544          -2.000254               0.000280   \n",
       "8434   511.932574       0.071355          -1.999737               0.000279   \n",
       "11616  216.715035       0.245324          -2.116358               0.002396   \n",
       "10028  260.978510       0.129301          -2.038895               0.001010   \n",
       "15822  309.309360       0.079438          -2.013733               0.000517   \n",
       "21504  359.266748       0.063687          -2.004837               0.000355   \n",
       "16548  409.911826       0.063794          -2.001523               0.000311   \n",
       "20727  460.852100       0.065769          -2.000226               0.000285   \n",
       "5063   511.917868       0.074824          -1.999679               0.000292   \n",
       "12275   54.182986       0.118405          -2.116523               0.004625   \n",
       "14211   65.248345       0.063432          -2.039011               0.001982   \n",
       "6684    77.330955       0.041547          -2.013827               0.001082   \n",
       "3431    89.819584       0.030884          -2.004901               0.000689   \n",
       "7373   102.484919       0.028843          -2.001659               0.000563   \n",
       "2544   115.217340       0.031893          -2.000301               0.000554   \n",
       "19124  127.986607       0.033231          -1.999791               0.000519   \n",
       "13307   54.185649       0.119284          -2.116627               0.004660   \n",
       "14971   65.247000       0.063428          -2.038969               0.001982   \n",
       "5813    77.331354       0.040786          -2.013837               0.001062   \n",
       "816     89.820069       0.030300          -2.004912               0.000676   \n",
       "4272   102.486952       0.026309          -2.001698               0.000514   \n",
       "1642   115.217199       0.030467          -2.000299               0.000529   \n",
       "17281  127.985555       0.033959          -1.999774               0.000531   \n",
       "\n",
       "      system_size hidden_size beta      step  \n",
       "10796          16         256  0.4  758000.0  \n",
       "9198           16         256  0.5  757000.0  \n",
       "20001          16         256  0.6  862000.0  \n",
       "22381          16         256  0.7  862000.0  \n",
       "18251          16         256  0.8  799000.0  \n",
       "23265          16         256  0.9  857000.0  \n",
       "8434           16         256  1.0  836000.0  \n",
       "11616          16         512  0.4  758000.0  \n",
       "10028          16         512  0.5  757000.0  \n",
       "15822          16         512  0.6  755000.0  \n",
       "21504          16         512  0.7  738000.0  \n",
       "16548          16         512  0.8  714000.0  \n",
       "20727          16         512  0.9  710000.0  \n",
       "5063           16         512  1.0  743000.0  \n",
       "12275           8         256  0.4  651000.0  \n",
       "14211           8         256  0.5  887000.0  \n",
       "6684            8         256  0.6  797000.0  \n",
       "3431            8         256  0.7  868000.0  \n",
       "7373            8         256  0.8  617000.0  \n",
       "2544            8         256  0.9  868000.0  \n",
       "19124           8         256  1.0  857000.0  \n",
       "13307           8         512  0.4  843000.0  \n",
       "14971           8         512  0.5  750000.0  \n",
       "5813            8         512  0.6  746000.0  \n",
       "816             8         512  0.7  816000.0  \n",
       "4272            8         512  0.8  816000.0  \n",
       "1642            8         512  0.9  816000.0  \n",
       "17281           8         512  1.0  686000.0  "
      ]
     },
     "execution_count": 70,
     "metadata": {},
     "output_type": "execute_result"
    }
   ],
   "source": [
    "df.loc[df.groupby(grid_columns)['free_energy_bound'].idxmin()]"
   ]
  },
  {
   "cell_type": "code",
   "execution_count": 71,
   "metadata": {
    "autoscroll": false,
    "ein.hycell": false,
    "ein.tags": "worksheet-0",
    "slideshow": {
     "slide_type": "-"
    }
   },
   "outputs": [],
   "source": [
    "with open('/Users/jaan/tmp/res', 'w') as f:\n",
    "  f.write(df.loc[df.groupby(grid_columns)['free_energy_bound'].idxmin()].to_string())"
   ]
  },
  {
   "cell_type": "code",
   "execution_count": 72,
   "metadata": {
    "autoscroll": false,
    "ein.hycell": false,
    "ein.tags": "worksheet-0",
    "slideshow": {
     "slide_type": "-"
    }
   },
   "outputs": [],
   "source": [
    "df.system_size = df.system_size.astype(int)\n",
    "df.hidden_size = df.hidden_size.astype(int)"
   ]
  },
  {
   "cell_type": "code",
   "execution_count": 87,
   "metadata": {
    "autoscroll": false,
    "ein.hycell": false,
    "ein.tags": "worksheet-0",
    "slideshow": {
     "slide_type": "-"
    }
   },
   "outputs": [
    {
     "data": {
      "image/png": "[encoded data removed]",
      "text/plain": [
       "<Figure size 582.48x360 with 1 Axes>"
      ]
     },
     "metadata": {},
     "output_type": "display_data"
    }
   ],
   "source": [
    "sorted_df = df.loc[df.loc[(df.system_size == 16) & (df.hidden_size == 512)].groupby(['beta',])['free_energy_bound'].idxmin()]\n",
    "make_plot(sorted_df, label=r'$L=16$', fname='../../talk/fig/hvm_vs_exact_L=16_hidden_size=512.pdf',\n",
    "          ylim=[-2.2, -1.909])"
   ]
  },
  {
   "cell_type": "code",
   "execution_count": 8,
   "metadata": {
    "autoscroll": false,
    "ein.hycell": false,
    "ein.tags": "worksheet-0",
    "slideshow": {
     "slide_type": "-"
    }
   },
   "outputs": [
    {
     "data": {
      "text/plain": [
       "         hier_elbo  hier_elbo_std  free_energy_bound  free_energy_bound_std  \\\n",
       "146   55217.243755       4.756639          -2.106371               0.000181   \n",
       "102   66562.831100       3.401238          -2.031336               0.000104   \n",
       "26    78953.134476       2.880275          -2.007882               0.000073   \n",
       "76    91713.711815       3.048606          -1.999200               0.000066   \n",
       "37   104675.189804       3.041072          -1.996521               0.000058   \n",
       "66   117696.812790       3.237927          -1.995456               0.000055   \n",
       "188  130749.981064       3.488429          -1.995086               0.000053   \n",
       "56    55025.100758       5.454322          -2.099041               0.000208   \n",
       "17    66354.739586       4.451937          -2.024986               0.000136   \n",
       "136   78713.362946       4.250219          -2.001784               0.000108   \n",
       "162   91402.213486       4.694692          -1.992410               0.000102   \n",
       "118  104311.287971       4.928568          -1.989580               0.000094   \n",
       "178  117306.135475       5.123978          -1.988833               0.000087   \n",
       "92   130331.463608       5.284838          -1.988700               0.000081   \n",
       "\n",
       "    num_eps_samples beta      step  \n",
       "146             150  0.4   90000.0  \n",
       "102             150  0.5   90000.0  \n",
       "26              150  0.6   80000.0  \n",
       "76              150  0.7   90000.0  \n",
       "37              150  0.8   90000.0  \n",
       "66              150  0.9   90000.0  \n",
       "188             150  1.0   90000.0  \n",
       "56               16  0.4  180000.0  \n",
       "17               16  0.5  170000.0  \n",
       "136              16  0.6  170000.0  \n",
       "162              16  0.7  150000.0  \n",
       "118              16  0.8  150000.0  \n",
       "178              16  0.9  150000.0  \n",
       "92               16  1.0  150000.0  "
      ]
     },
     "execution_count": 8,
     "metadata": {},
     "output_type": "execute_result"
    }
   ],
   "source": [
    "grid_columns = ['num_eps_samples', 'beta']\n",
    "df = get_dataframe('/Users/jaan/log/transfer_tigergpu/vi-for-physics/2019-02-13/ising-256-grid', grid_columns)\n",
    "df.loc[df.groupby(grid_columns)['free_energy_bound'].idxmin()]"
   ]
  },
  {
   "cell_type": "code",
   "execution_count": 10,
   "metadata": {
    "autoscroll": false,
    "ein.hycell": false,
    "ein.tags": "worksheet-0",
    "slideshow": {
     "slide_type": "-"
    }
   },
   "outputs": [
    {
     "data": {
      "image/png": "[encoded data removed]",
      "text/plain": [
       "<Figure size 582.48x360 with 1 Axes>"
      ]
     },
     "metadata": {},
     "output_type": "display_data"
    }
   ],
   "source": [
    "df.num_eps_samples = df.num_eps_samples.astype(int)\n",
    "sorted_df = df.loc[df.loc[df.num_eps_samples == 16].groupby(['beta',])['free_energy_bound'].idxmin()]\n",
    "make_plot(sorted_df, label=r'$L=256$', fname='../../talk/fig/hvm_vs_exact_L=256_num_eps_samples=16.pdf',\n",
    "          ylim=[-2.2, -1.909])"
   ]
  },
  {
   "cell_type": "markdown",
   "metadata": {
    "ein.tags": "worksheet-0",
    "slideshow": {
     "slide_type": "-"
    }
   },
   "source": [
    "## Plot beta vs free energy"
   ]
  },
  {
   "cell_type": "code",
   "execution_count": 160,
   "metadata": {
    "autoscroll": false,
    "ein.hycell": false,
    "ein.tags": "worksheet-0",
    "slideshow": {
     "slide_type": "-"
    }
   },
   "outputs": [],
   "source": [
    "beta_fine = np.linspace(0.38, 1.0, 100)\n",
    "exact_free_energy = [ising_exact_free_energy(x, 1, 1) for x in beta_fine]"
   ]
  },
  {
   "cell_type": "code",
   "execution_count": 164,
   "metadata": {
    "autoscroll": false,
    "ein.hycell": false,
    "ein.tags": "worksheet-0",
    "slideshow": {
     "slide_type": "-"
    }
   },
   "outputs": [
    {
     "data": {
      "image/png": "[encoded data removed]",
      "text/plain": [
       "<Figure size 582.48x360 with 1 Axes>"
      ]
     },
     "metadata": {},
     "output_type": "display_data"
    }
   ],
   "source": [
    "fig, ax = plt.subplots(figsize=(5 * 1.618, 5))\n",
    "ax.plot(beta_fine, exact_free_energy, label='Exact')\n",
    "ax.plot(beta, df.values, '.', markersize=20, label=r'$L=16$')\n",
    "ax.set_xlim([0.3, 1.0])\n",
    "ax.set_ylim([-2.20, -1.98])\n",
    "ax.set(xlabel=r'$\\beta$')\n",
    "ax.set(ylabel=r'Free energy')\n",
    "ax.yaxis.grid()\n",
    "sns.despine(right=True, top=True, left=True)\n",
    "handles,labels = ax.get_legend_handles_labels()\n",
    "handles = handles[::-1]\n",
    "labels = labels[::-1]\n",
    "ax.legend(handles, labels, frameon=False, handlelength=0.5)\n",
    "plt.savefig('../../talk/fig/hvm_vs_exact_L=16.pdf', bbox_inches='tight')\n",
    "#plt.savefig('../../talk/fig/hvm_vs_exact.png', bbox_inches='tight')"
   ]
  },
  {
   "cell_type": "code",
   "execution_count": 154,
   "metadata": {
    "autoscroll": false,
    "ein.hycell": false,
    "ein.tags": "worksheet-0",
    "slideshow": {
     "slide_type": "-"
    }
   },
   "outputs": [],
   "source": []
  },
  {
   "cell_type": "code",
   "execution_count": null,
   "metadata": {
    "autoscroll": false,
    "ein.hycell": false,
    "ein.tags": "worksheet-0",
    "slideshow": {
     "slide_type": "-"
    }
   },
   "outputs": [],
   "source": []
  }
 ],
 "metadata": {
  "kernelspec": {
   "display_name": "Python 3",
   "language": "python",
   "name": "python3"
  },
  "language_info": {
   "codemirror_mode": {
    "name": "ipython",
    "version": 3
   },
   "file_extension": ".py",
   "mimetype": "text/x-python",
   "name": "python",
   "nbconvert_exporter": "python",
   "pygments_lexer": "ipython3",
   "version": "3.6.9"
  },
  "name": "plot-free-energy.ipynb"
 },
 "nbformat": 4,
 "nbformat_minor": 2
}
