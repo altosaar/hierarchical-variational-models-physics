{
 "cells": [
  {
   "cell_type": "code",
   "execution_count": 13,
   "metadata": {
    "autoscroll": false,
    "collapsed": false,
    "ein.hycell": false,
    "ein.tags": "worksheet-0",
    "slideshow": {
     "slide_type": "-"
    }
   },
   "outputs": [
    {
     "name": "stdout",
     "output_type": "stream",
     "text": [
      "/Users/jaan/Dropbox/100_projects\n"
     ]
    }
   ],
   "source": [
    "cd .."
   ]
  },
  {
   "cell_type": "code",
   "execution_count": 46,
   "metadata": {
    "autoscroll": false,
    "collapsed": false,
    "ein.hycell": false,
    "ein.tags": "worksheet-0",
    "slideshow": {
     "slide_type": "-"
    }
   },
   "outputs": [],
   "source": [
    "import torch\n",
    "from torch import nn\n",
    "import torch.nn.functional as F\n",
    "import variational\n",
    "import network\n",
    "import addict\n",
    "import math"
   ]
  },
  {
   "cell_type": "code",
   "execution_count": 74,
   "metadata": {
    "autoscroll": false,
    "collapsed": false,
    "ein.hycell": false,
    "ein.tags": "worksheet-0",
    "slideshow": {
     "slide_type": "-"
    }
   },
   "outputs": [
    {
     "name": "stderr",
     "output_type": "stream",
     "text": [
      "[autoreload of variational failed: Traceback (most recent call last):\n",
      "  File \"/usr/local/anaconda3/lib/python3.6/site-packages/IPython/extensions/autoreload.py\", line 244, in check\n",
      "    superreload(m, reload, self.old_objects)\n",
      "  File \"/usr/local/anaconda3/lib/python3.6/site-packages/IPython/extensions/autoreload.py\", line 376, in superreload\n",
      "    module = reload(module)\n",
      "  File \"/usr/local/anaconda3/lib/python3.6/imp.py\", line 315, in reload\n",
      "    return importlib.reload(module)\n",
      "  File \"/usr/local/anaconda3/lib/python3.6/importlib/__init__.py\", line 166, in reload\n",
      "    _bootstrap._exec(spec, module)\n",
      "  File \"<frozen importlib._bootstrap>\", line 600, in _exec\n",
      "AttributeError: 'NoneType' object has no attribute 'name'\n",
      "]\n",
      "[autoreload of network failed: Traceback (most recent call last):\n",
      "  File \"/usr/local/anaconda3/lib/python3.6/site-packages/IPython/extensions/autoreload.py\", line 244, in check\n",
      "    superreload(m, reload, self.old_objects)\n",
      "  File \"/usr/local/anaconda3/lib/python3.6/site-packages/IPython/extensions/autoreload.py\", line 376, in superreload\n",
      "    module = reload(module)\n",
      "  File \"/usr/local/anaconda3/lib/python3.6/imp.py\", line 315, in reload\n",
      "    return importlib.reload(module)\n",
      "  File \"/usr/local/anaconda3/lib/python3.6/importlib/__init__.py\", line 166, in reload\n",
      "    _bootstrap._exec(spec, module)\n",
      "  File \"<frozen importlib._bootstrap>\", line 600, in _exec\n",
      "AttributeError: 'NoneType' object has no attribute 'name'\n",
      "]\n"
     ]
    }
   ],
   "source": [
    "cfg = addict.Dict(latent_size=1,\n",
    "                  num_samples=1,\n",
    "                  learning_rate=1e-3,\n",
    "                  momentum=0.9,\n",
    "                  seed=242329,\n",
    "                  log_interval=100,\n",
    "                  max_iteration=1000)\n",
    "p_nu = OptimalRecursiveApproximation()\n",
    "r_nu = VariationalRecursiveApproximation(latent_size=cfg.latent_size)\n",
    "optimizer = torch.optim.RMSprop(r_nu.parameters(),\n",
    "                                lr=cfg.learning_rate,\n",
    "                                momentum=cfg.momentum)"
   ]
  },
  {
   "cell_type": "code",
   "execution_count": 71,
   "metadata": {
    "autoscroll": false,
    "collapsed": false,
    "ein.hycell": false,
    "ein.tags": "worksheet-0",
    "slideshow": {
     "slide_type": "-"
    }
   },
   "outputs": [
    {
     "name": "stdout",
     "output_type": "stream",
     "text": [
      "tensor(nan, grad_fn=<SumBackward2>)\n",
      "tensor(nan, grad_fn=<SumBackward2>)\n",
      "tensor(nan, grad_fn=<SumBackward2>)\n",
      "tensor(nan, grad_fn=<SumBackward2>)\n"
     ]
    },
    {
     "name": "stdout",
     "output_type": "stream",
     "text": [
      "tensor(nan, grad_fn=<SumBackward2>)\n",
      "tensor(nan, grad_fn=<SumBackward2>)\n",
      "tensor(nan, grad_fn=<SumBackward2>)\n",
      "tensor(nan, grad_fn=<SumBackward2>)\n"
     ]
    },
    {
     "name": "stdout",
     "output_type": "stream",
     "text": [
      "tensor(nan, grad_fn=<SumBackward2>)\n",
      "tensor(nan, grad_fn=<SumBackward2>)\n"
     ]
    }
   ],
   "source": [
    "torch.manual_seed(cfg.seed)\n",
    "\n",
    "z = torch.ones(1)\n",
    "# todo: switch to learning two transforms, for z=1, 0\n",
    "for step in range(cfg.max_iteration):\n",
    "  nu, log_r_nu = r_nu(cfg.num_samples)\n",
    "  log_p_nu = p_nu.log_prob(nu, z)\n",
    "  kl = log_p_nu - log_r_nu\n",
    "  # average over samples, sum over latent dimensions\n",
    "  loss = kl.mean(dim=0).sum(dim=0)\n",
    "  optimizer.zero_grad()\n",
    "  loss.backward()\n",
    "  if step % cfg.log_interval == 0:\n",
    "    print(loss)  "
   ]
  },
  {
   "cell_type": "code",
   "execution_count": 73,
   "metadata": {
    "autoscroll": false,
    "collapsed": false,
    "ein.hycell": false,
    "ein.tags": "worksheet-0",
    "slideshow": {
     "slide_type": "-"
    }
   },
   "outputs": [
    {
     "name": "stdout",
     "output_type": "stream",
     "text": [
      "tensor([nan], grad_fn=<AddBackward0>)\n"
     ]
    }
   ],
   "source": [
    "print(log_r_nu)"
   ]
  },
  {
   "cell_type": "code",
   "execution_count": null,
   "metadata": {
    "autoscroll": false,
    "collapsed": false,
    "ein.hycell": false,
    "ein.tags": "worksheet-0",
    "slideshow": {
     "slide_type": "-"
    }
   },
   "outputs": [],
   "source": []
  }
 ],
 "metadata": {
  "name": "plot-energy-function.ipynb"
 },
 "nbformat": 4,
 "nbformat_minor": 2
}
