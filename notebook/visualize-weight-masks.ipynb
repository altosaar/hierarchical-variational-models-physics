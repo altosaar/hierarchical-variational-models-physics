{
 "cells": [
  {
   "cell_type": "code",
   "execution_count": 90,
   "metadata": {
    "autoscroll": false,
    "collapsed": false,
    "ein.hycell": false,
    "ein.tags": "worksheet-0",
    "slideshow": {
     "slide_type": "-"
    }
   },
   "outputs": [],
   "source": [
    "import numpy as np\n",
    "import matplotlib.pyplot as plt\n",
    "import addict\n",
    "import itertools"
   ]
  },
  {
   "cell_type": "code",
   "execution_count": 109,
   "metadata": {
    "autoscroll": false,
    "collapsed": false,
    "ein.hycell": false,
    "ein.tags": "worksheet-0",
    "slideshow": {
     "slide_type": "-"
    }
   },
   "outputs": [],
   "source": [
    "cfg = addict.Dict(system_size=3,\n",
    "                  hidden_size=10)"
   ]
  },
  {
   "cell_type": "code",
   "execution_count": 312,
   "metadata": {
    "autoscroll": false,
    "collapsed": false,
    "ein.hycell": false,
    "ein.tags": "worksheet-0",
    "slideshow": {
     "slide_type": "-"
    }
   },
   "outputs": [],
   "source": [
    "arange = np.arange(cfg.system_size)\n",
    "index_list = list(itertools.product(arange, repeat=2))"
   ]
  },
  {
   "cell_type": "code",
   "execution_count": 313,
   "metadata": {
    "autoscroll": false,
    "collapsed": false,
    "ein.hycell": false,
    "ein.tags": "worksheet-0",
    "slideshow": {
     "slide_type": "-"
    }
   },
   "outputs": [],
   "source": [
    "index_arr = np.empty(len(index_list), dtype='O')"
   ]
  },
  {
   "cell_type": "code",
   "execution_count": 314,
   "metadata": {
    "autoscroll": false,
    "collapsed": false,
    "ein.hycell": false,
    "ein.tags": "worksheet-0",
    "slideshow": {
     "slide_type": "-"
    }
   },
   "outputs": [],
   "source": [
    "index_arr[:] = index_list"
   ]
  },
  {
   "cell_type": "code",
   "execution_count": 315,
   "metadata": {
    "autoscroll": false,
    "collapsed": false,
    "ein.hycell": false,
    "ein.tags": "worksheet-0",
    "slideshow": {
     "slide_type": "-"
    }
   },
   "outputs": [],
   "source": [
    "index_arr = index_arr.reshape((cfg.system_size, cfg.system_size))"
   ]
  },
  {
   "cell_type": "code",
   "execution_count": 316,
   "metadata": {
    "autoscroll": false,
    "collapsed": false,
    "ein.hycell": false,
    "ein.tags": "worksheet-0",
    "slideshow": {
     "slide_type": "-"
    }
   },
   "outputs": [
    {
     "data": {
      "text/plain": [
       "array([[(0, 0), (0, 1), (0, 2)],\n       [(1, 0), (1, 1), (1, 2)],\n       [(2, 0), (2, 1), (2, 2)]], dtype=object)"
      ]
     },
     "execution_count": 316,
     "metadata": {},
     "output_type": "execute_result"
    }
   ],
   "source": [
    "index_arr"
   ]
  },
  {
   "cell_type": "code",
   "execution_count": 317,
   "metadata": {
    "autoscroll": false,
    "collapsed": false,
    "ein.hycell": false,
    "ein.tags": "worksheet-0",
    "slideshow": {
     "slide_type": "-"
    }
   },
   "outputs": [],
   "source": [
    "arange = np.arange(cfg.system_size ** 2)\n",
    "grid = arange.reshape((cfg.system_size, cfg.system_size))\n",
    "# four nearest-neighbors\n",
    "self_and_neighbors = np.zeros((cfg.system_size, cfg.system_size, 5), dtype=int)\n",
    "self_and_neighbors[..., 0] = grid\n",
    "neighbor_index = 1\n",
    "for axis in [0, 1]:\n",
    "  for shift in [-1, 1]:\n",
    "    self_and_neighbors[..., neighbor_index] = np.roll(grid, shift=shift, axis=axis)\n",
    "    neighbor_index += 1\n",
    "# reshape to (num_latent, num_neighbors)\n",
    "self_and_neighbors = self_and_neighbors.reshape(cfg.system_size ** 2, -1)"
   ]
  },
  {
   "cell_type": "code",
   "execution_count": 207,
   "metadata": {
    "autoscroll": false,
    "collapsed": false,
    "ein.hycell": false,
    "ein.tags": "worksheet-0",
    "slideshow": {
     "slide_type": "-"
    }
   },
   "outputs": [],
   "source": [
    "d = np.arange(cfg.system_size ** 2)"
   ]
  },
  {
   "cell_type": "code",
   "execution_count": 321,
   "metadata": {
    "autoscroll": false,
    "collapsed": false,
    "ein.hycell": false,
    "ein.tags": "worksheet-0",
    "slideshow": {
     "slide_type": "-"
    }
   },
   "outputs": [],
   "source": [
    "m = np.random.randint(cfg.system_size ** 2 - 1, size=cfg.hidden_size)"
   ]
  },
  {
   "cell_type": "code",
   "execution_count": 322,
   "metadata": {
    "autoscroll": false,
    "collapsed": false,
    "ein.hycell": false,
    "ein.tags": "worksheet-0",
    "slideshow": {
     "slide_type": "-"
    }
   },
   "outputs": [],
   "source": [
    "mask = np.zeros((cfg.hidden_size, cfg.system_size ** 2), dtype=bool)"
   ]
  },
  {
   "cell_type": "code",
   "execution_count": 323,
   "metadata": {
    "autoscroll": false,
    "collapsed": false,
    "ein.hycell": false,
    "ein.tags": "worksheet-0",
    "slideshow": {
     "slide_type": "-"
    }
   },
   "outputs": [
    {
     "data": {
      "text/plain": [
       "array([2, 2, 5, 6, 3, 3, 5, 1, 7, 5])"
      ]
     },
     "execution_count": 323,
     "metadata": {},
     "output_type": "execute_result"
    }
   ],
   "source": [
    "m"
   ]
  },
  {
   "cell_type": "code",
   "execution_count": 324,
   "metadata": {
    "autoscroll": false,
    "collapsed": false,
    "ein.hycell": false,
    "ein.tags": "worksheet-0",
    "slideshow": {
     "slide_type": "-"
    }
   },
   "outputs": [],
   "source": [
    "for i in range(len(mask)):\n",
    "  row = self_and_neighbors[d[m[i]]]\n",
    "  true_values = (m[i] >= row)\n",
    "  mask[i, row[true_values]] = True"
   ]
  },
  {
   "cell_type": "code",
   "execution_count": 325,
   "metadata": {
    "autoscroll": false,
    "collapsed": false,
    "ein.hycell": false,
    "ein.tags": "worksheet-0",
    "slideshow": {
     "slide_type": "-"
    }
   },
   "outputs": [
    {
     "data": {
      "text/plain": [
       "array([[ True, False, False, False, False, False, False, False, False],\n       [ True, False, False, False, False, False, False, False, False],\n       [ True, False, False,  True, False, False, False, False, False],\n       [False,  True, False, False,  True, False,  True, False, False],\n       [False,  True, False,  True, False, False, False, False, False],\n       [False,  True, False,  True, False, False, False, False, False],\n       [ True, False, False,  True, False, False, False, False, False],\n       [ True,  True, False, False, False, False, False, False, False],\n       [False, False,  True, False, False,  True,  True,  True, False],\n       [ True, False, False,  True, False, False, False, False, False]])"
      ]
     },
     "execution_count": 325,
     "metadata": {},
     "output_type": "execute_result"
    }
   ],
   "source": [
    "mask"
   ]
  },
  {
   "cell_type": "code",
   "execution_count": 369,
   "metadata": {
    "autoscroll": false,
    "collapsed": false,
    "ein.hycell": false,
    "ein.tags": "worksheet-0",
    "slideshow": {
     "slide_type": "-"
    }
   },
   "outputs": [],
   "source": [
    "mh = np.random.randint(cfg.system_size ** 2 - 1, size=cfg.hidden_size)"
   ]
  },
  {
   "cell_type": "code",
   "execution_count": 370,
   "metadata": {
    "autoscroll": false,
    "collapsed": false,
    "ein.hycell": false,
    "ein.tags": "worksheet-0",
    "slideshow": {
     "slide_type": "-"
    }
   },
   "outputs": [],
   "source": [
    "maskh = np.zeros((cfg.hidden_size, cfg.hidden_size), dtype=bool)\n",
    "for i in range(len(mask)):\n",
    "  row = self_and_neighbors[m[mh[i]]]\n",
    "  true_values = (mh[i] >= row)\n",
    "  maskh[i, row[true_values]] = True"
   ]
  },
  {
   "cell_type": "code",
   "execution_count": 371,
   "metadata": {
    "autoscroll": false,
    "collapsed": false,
    "ein.hycell": false,
    "ein.tags": "worksheet-0",
    "slideshow": {
     "slide_type": "-"
    }
   },
   "outputs": [
    {
     "name": "stdout",
     "output_type": "stream",
     "text": [
      "[[False False  True False False False False False False False]\n",
      " [False False  True False False False False False False False]\n",
      " [False False  True False False False False False False False]\n",
      " [ True False False False False False False False False False]\n",
      " [ True False False False False False False False False False]\n",
      " [ True  True  True False  True False False  True False False]\n",
      " [ True False False  True  True False False False False False]\n",
      " [ True False False  True  True False False False False False]\n",
      " [ True False False False False False False False False False]\n",
      " [ True False False  True False False False False False False]]\n"
     ]
    }
   ],
   "source": [
    "print(maskh)"
   ]
  },
  {
   "cell_type": "code",
   "execution_count": 372,
   "metadata": {
    "autoscroll": false,
    "collapsed": false,
    "ein.hycell": false,
    "ein.tags": "worksheet-0",
    "slideshow": {
     "slide_type": "-"
    }
   },
   "outputs": [
    {
     "data": {
      "text/plain": [
       "array([2, 2, 2, 0, 0, 7, 4, 4, 0, 3])"
      ]
     },
     "execution_count": 372,
     "metadata": {},
     "output_type": "execute_result"
    }
   ],
   "source": [
    "mh"
   ]
  },
  {
   "cell_type": "code",
   "execution_count": 373,
   "metadata": {
    "autoscroll": false,
    "collapsed": false,
    "ein.hycell": false,
    "ein.tags": "worksheet-0",
    "slideshow": {
     "slide_type": "-"
    }
   },
   "outputs": [
    {
     "data": {
      "text/plain": [
       "array([2, 5, 8, 0, 1])"
      ]
     },
     "execution_count": 373,
     "metadata": {},
     "output_type": "execute_result"
    }
   ],
   "source": [
    "self_and_neighbors[mh[0]]"
   ]
  },
  {
   "cell_type": "code",
   "execution_count": 374,
   "metadata": {
    "autoscroll": false,
    "collapsed": false,
    "ein.hycell": false,
    "ein.tags": "worksheet-0",
    "slideshow": {
     "slide_type": "-"
    }
   },
   "outputs": [],
   "source": [
    "maskh = np.zeros((cfg.hidden_size, cfg.hidden_size), dtype=bool)\n",
    "for i in range(len(maskh)):\n",
    "  maskh[i] = np.logical_and(np.isin(m, self_and_neighbors[mh[i]]), mh[i] >= m)"
   ]
  },
  {
   "cell_type": "code",
   "execution_count": 375,
   "metadata": {
    "autoscroll": false,
    "collapsed": false,
    "ein.hycell": false,
    "ein.tags": "worksheet-0",
    "slideshow": {
     "slide_type": "-"
    }
   },
   "outputs": [
    {
     "name": "stdout",
     "output_type": "stream",
     "text": [
      "[[ True  True False False False False False  True False False]\n",
      " [ True  True False False False False False  True False False]\n",
      " [ True  True False False False False False  True False False]\n",
      " [False False False False False False False False False False]\n",
      " [False False False False False False False False False False]\n",
      " [False False False  True False False False  True  True False]\n",
      " [False False False False  True  True False  True False False]\n",
      " [False False False False  True  True False  True False False]\n",
      " [False False False False False False False False False False]\n",
      " [False False False False  True  True False False False False]]\n"
     ]
    }
   ],
   "source": [
    "print(maskh)"
   ]
  },
  {
   "cell_type": "code",
   "execution_count": 376,
   "metadata": {
    "autoscroll": false,
    "collapsed": false,
    "ein.hycell": false,
    "ein.tags": "worksheet-0",
    "slideshow": {
     "slide_type": "-"
    }
   },
   "outputs": [],
   "source": [
    "mo = np.arange(cfg.system_size ** 2)"
   ]
  },
  {
   "cell_type": "code",
   "execution_count": 377,
   "metadata": {
    "autoscroll": false,
    "collapsed": false,
    "ein.hycell": false,
    "ein.tags": "worksheet-0",
    "slideshow": {
     "slide_type": "-"
    }
   },
   "outputs": [],
   "source": [
    "masko = np.zeros((cfg.system_size ** 2, cfg.hidden_size), dtype=bool)\n",
    "for i in range(len(masko)):\n",
    "  masko[i] = np.logical_and(np.isin(mh, self_and_neighbors[mo[i]]), mo[i] > mh)"
   ]
  },
  {
   "cell_type": "code",
   "execution_count": 378,
   "metadata": {
    "autoscroll": false,
    "collapsed": false,
    "ein.hycell": false,
    "ein.tags": "worksheet-0",
    "slideshow": {
     "slide_type": "-"
    }
   },
   "outputs": [
    {
     "name": "stdout",
     "output_type": "stream",
     "text": [
      "[[False False False False False False False False False False]\n",
      " [False False False  True  True False False False  True False]\n",
      " [False False False  True  True False False False  True False]\n",
      " [False False False  True  True False False False  True False]\n",
      " [False False False False False False False False False  True]\n",
      " [ True  True  True False False False  True  True False  True]\n",
      " [False False False  True  True False False False  True  True]\n",
      " [False False False False False False  True  True False False]\n",
      " [ True  True  True False False  True False False False False]]\n"
     ]
    }
   ],
   "source": [
    "print(masko)"
   ]
  },
  {
   "cell_type": "code",
   "execution_count": 379,
   "metadata": {
    "autoscroll": false,
    "collapsed": false,
    "ein.hycell": false,
    "ein.tags": "worksheet-0",
    "slideshow": {
     "slide_type": "-"
    }
   },
   "outputs": [
    {
     "data": {
      "text/plain": [
       "array([2, 2, 2, 0, 0, 7, 4, 4, 0, 3])"
      ]
     },
     "execution_count": 379,
     "metadata": {},
     "output_type": "execute_result"
    }
   ],
   "source": [
    "mh"
   ]
  },
  {
   "cell_type": "code",
   "execution_count": 380,
   "metadata": {
    "autoscroll": false,
    "collapsed": false,
    "ein.hycell": false,
    "ein.tags": "worksheet-0",
    "slideshow": {
     "slide_type": "-"
    }
   },
   "outputs": [
    {
     "data": {
      "text/plain": [
       "(array([ True,  True,  True, False, False,  True, False, False, False,\n        False]),\n array([ True,  True,  True,  True,  True,  True,  True,  True,  True,\n         True]))"
      ]
     },
     "execution_count": 380,
     "metadata": {},
     "output_type": "execute_result"
    }
   ],
   "source": [
    "np.isin(mh, self_and_neighbors[mo[8]]), mo[8] > mh"
   ]
  },
  {
   "cell_type": "code",
   "execution_count": 382,
   "metadata": {
    "autoscroll": false,
    "collapsed": false,
    "ein.hycell": false,
    "ein.tags": "worksheet-0",
    "slideshow": {
     "slide_type": "-"
    }
   },
   "outputs": [
    {
     "data": {
      "text/plain": [
       "((10, 9), (10, 10), (9, 10))"
      ]
     },
     "execution_count": 382,
     "metadata": {},
     "output_type": "execute_result"
    }
   ],
   "source": [
    "mask.shape, maskh.shape, masko.shape"
   ]
  },
  {
   "cell_type": "code",
   "execution_count": null,
   "metadata": {
    "autoscroll": false,
    "collapsed": false,
    "ein.hycell": false,
    "ein.tags": "worksheet-0",
    "slideshow": {
     "slide_type": "-"
    }
   },
   "outputs": [],
   "source": []
  }
 ],
 "metadata": {
  "name": "visualize-weight-masks.ipynb"
 },
 "nbformat": 4,
 "nbformat_minor": 2
}
