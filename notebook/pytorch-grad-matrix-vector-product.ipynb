{
 "cells": [
  {
   "cell_type": "code",
   "execution_count": 10,
   "metadata": {
    "autoscroll": false,
    "collapsed": false,
    "ein.hycell": false,
    "ein.tags": "worksheet-0",
    "slideshow": {
     "slide_type": "-"
    }
   },
   "outputs": [
    {
     "name": "stdout",
     "output_type": "stream",
     "text": [
      "tensor([180., 240., 300.]) tensor([180., 240., 300.], grad_fn=<CopySlices>)\n"
     ]
    }
   ],
   "source": [
    "# goal: calculate derivative \\del_\\theta a(\\theta) v, where a(\\theta) is a\n",
    "# vector field and v is a vector.\n",
    "import torch\n",
    "import random\n",
    "\n",
    "torch.manual_seed(4232)\n",
    "theta = torch.ones(3, requires_grad=True)\n",
    "def get_a_v():\n",
    "  a = torch.zeros(2)\n",
    "  a[0] = 1 * theta[0].pow(2) + 2 * theta[1].pow(2) + 3 * theta[2].pow(2)\n",
    "  a[1] = 4 * theta[0].pow(2) + 5 * theta[1].pow(2) + 6 * theta[2].pow(2)\n",
    "  v = torch.Tensor([[10.1, 20.], [9.9, 20], [10, 20], [10, 20], [10, 20]])\n",
    "  return a, v\n",
    "\"\"\"\n",
    "\\del_\\theta a(\\theta) = \\partial_\\theta_i a_j(\\theta)\n",
    "= \\partial_{\\theta_1} a_1, \\partial_\\theta_1 a_2, \\partial_{\\theta_1} a_3\n",
    "...\n",
    "\n",
    "\\del_\\theta a(\\theta) v = [ \\partial_{\\theta_1} a_1 * v_1 + \\partial_{\\theta_1} a_2 * v_2,\n",
    "                            \\partial_{\\theta_2} a_1 * v_1 + ...,\n",
    "                            \\partial_{\\theta_3} a_1 * v_1 + ...]\n",
    "= [2 * \\theta_1 * v_1 +  4 * \\theta_1 * v_2,\n",
    "   4 * \\theta_2 * v_1 + 10 * \\theta_2 * v_2,\n",
    "   6 * \\theta_3 * v_1 + 12 * \\theta_3 * v_2]\n",
    "\n",
    "\\del_\\theta sum a(\\theta) = [10 * \\theta_1, 14 * \\theta_1, 18 * \\theta_3]\n",
    "\"\"\"\n",
    "def get_true_grad(theta, v):\n",
    "  true_grad = torch.zeros(3)\n",
    "  true_grad[0] = (2 * theta[0] * v[:, 0] + 8 * theta[0] * v[:, 1]).mean()\n",
    "  true_grad[1] = (4 * theta[1] * v[:, 0] + 10 * theta[1] * v[:, 1]).mean()\n",
    "  true_grad[2] = (6 * theta[2] * v[:, 0] + 12 * theta[2] * v[:, 1]).mean()\n",
    "  return true_grad\n",
    "\n",
    "a, v = get_a_v()\n",
    "true_grad = get_true_grad(theta, v)\n",
    "theta.grad = None\n",
    "(a * v).sum().backward()\n",
    "print(theta.grad / 5, true_grad)"
   ]
  },
  {
   "cell_type": "code",
   "execution_count": 14,
   "metadata": {
    "autoscroll": false,
    "collapsed": false,
    "ein.hycell": false,
    "ein.tags": "worksheet-0",
    "slideshow": {
     "slide_type": "-"
    }
   },
   "outputs": [
    {
     "data": {
      "text/plain": [
       "torch.Size([5, 2])"
      ]
     },
     "execution_count": 14,
     "metadata": {},
     "output_type": "execute_result"
    }
   ],
   "source": [
    "v.shape"
   ]
  },
  {
   "cell_type": "code",
   "execution_count": 15,
   "metadata": {
    "autoscroll": false,
    "collapsed": false,
    "ein.hycell": false,
    "ein.tags": "worksheet-0",
    "slideshow": {
     "slide_type": "-"
    }
   },
   "outputs": [
    {
     "data": {
      "text/plain": [
       "torch.Size([2])"
      ]
     },
     "execution_count": 15,
     "metadata": {},
     "output_type": "execute_result"
    }
   ],
   "source": [
    "a.shape"
   ]
  },
  {
   "cell_type": "code",
   "execution_count": 13,
   "metadata": {
    "autoscroll": false,
    "collapsed": false,
    "ein.hycell": false,
    "ein.tags": "worksheet-0",
    "slideshow": {
     "slide_type": "-"
    }
   },
   "outputs": [
    {
     "name": "stdout",
     "output_type": "stream",
     "text": [
      "tensor([180., 240., 300.]) tensor([180., 240., 300.], grad_fn=<CopySlices>)\n"
     ]
    }
   ],
   "source": [
    "# following https://pytorch.org/tutorials/beginner/blitz/autograd_tutorial.html\n",
    "theta.grad.zero_()\n",
    "a, v = get_a_v()\n",
    "a.backward(v)\n",
    "print(theta.grad / 5, true_grad)"
   ]
  },
  {
   "cell_type": "code",
   "execution_count": 21,
   "metadata": {
    "autoscroll": false,
    "collapsed": false,
    "ein.hycell": false,
    "ein.tags": "worksheet-0",
    "slideshow": {
     "slide_type": "-"
    }
   },
   "outputs": [],
   "source": [
    "theta.grad.zero_()\n",
    "a, v = get_a_v()\n",
    "a.sum().backward()"
   ]
  },
  {
   "cell_type": "code",
   "execution_count": 22,
   "metadata": {
    "autoscroll": false,
    "collapsed": false,
    "ein.hycell": false,
    "ein.tags": "worksheet-0",
    "slideshow": {
     "slide_type": "-"
    }
   },
   "outputs": [
    {
     "name": "stdout",
     "output_type": "stream",
     "text": [
      "tensor([10., 14., 18.])\n"
     ]
    }
   ],
   "source": [
    "print(theta.grad)"
   ]
  },
  {
   "cell_type": "code",
   "execution_count": null,
   "metadata": {
    "autoscroll": false,
    "collapsed": false,
    "ein.hycell": false,
    "ein.tags": "worksheet-0",
    "slideshow": {
     "slide_type": "-"
    }
   },
   "outputs": [],
   "source": []
  }
 ],
 "metadata": {
  "name": "pytorch-grad-matrix-vector-product.ipynb"
 },
 "nbformat": 4,
 "nbformat_minor": 2
}
