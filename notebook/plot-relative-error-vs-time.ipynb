{
 "cells": [
  {
   "cell_type": "code",
   "execution_count": 3,
   "metadata": {
    "autoscroll": false,
    "ein.hycell": false,
    "ein.tags": "worksheet-0",
    "slideshow": {
     "slide_type": "-"
    }
   },
   "outputs": [],
   "source": [
    "import matplotlib.pyplot as plt\n",
    "import seaborn as sns\n",
    "import pathlib\n",
    "sns.set_style('white')\n",
    "sns.set_context('talk')\n",
    "import numpy as np\n",
    "import pandas as pd\n",
    "import collections\n",
    "import addict"
   ]
  },
  {
   "cell_type": "code",
   "execution_count": 4,
   "metadata": {
    "autoscroll": false,
    "ein.hycell": false,
    "ein.tags": "worksheet-0",
    "slideshow": {
     "slide_type": "-"
    }
   },
   "outputs": [],
   "source": [
    "name = 'error-vs-time-importance-sampling'"
   ]
  },
  {
   "cell_type": "code",
   "execution_count": 5,
   "metadata": {
    "autoscroll": false,
    "ein.hycell": false,
    "ein.tags": "worksheet-0",
    "slideshow": {
     "slide_type": "-"
    }
   },
   "outputs": [],
   "source": [
    "hvm_dir = pathlib.Path('/Users/jaan/log/transfer_tigergpu/2019-06-23/error-vs-time/')\n",
    "hvm_dir = pathlib.Path('/Users/jaan/log/transfer_tigergpu/2019-07-06/importance-sampling/')\n",
    "log_dict = addict.Dict()\n",
    "for f in hvm_dir.rglob('*.csv'):\n",
    "  name = str(f.parts[-2])\n",
    "  split = name.split('_')\n",
    "  system_size = int(name.lstrip('system_size=')[:2])\n",
    "  beta = float(name.split('beta=')[1])\n",
    "  log_dict['hvm'][system_size][beta] = f"
   ]
  },
  {
   "cell_type": "code",
   "execution_count": 6,
   "metadata": {
    "autoscroll": false,
    "ein.hycell": false,
    "ein.tags": "worksheet-0",
    "slideshow": {
     "slide_type": "-"
    }
   },
   "outputs": [],
   "source": [
    "van_dir = pathlib.Path('/Users/jaan/log/transfer_tigergpu/2019-06-23/test/stat-mech-van')\n",
    "for f in van_dir.rglob('*.csv'):\n",
    "  name = f.parts[-3]\n",
    "  if 'periodic' in name:\n",
    "    system_size = int(name.split('L')[1][:2])\n",
    "    beta = float(name.split('beta')[1])\n",
    "    log_dict['van'][system_size][beta] = f"
   ]
  },
  {
   "cell_type": "code",
   "execution_count": 7,
   "metadata": {
    "autoscroll": false,
    "ein.hycell": false,
    "ein.tags": "worksheet-0",
    "slideshow": {
     "slide_type": "-"
    }
   },
   "outputs": [],
   "source": [
    "log_dict = log_dict.to_dict()"
   ]
  },
  {
   "cell_type": "code",
   "execution_count": 8,
   "metadata": {
    "autoscroll": false,
    "ein.hycell": false,
    "ein.tags": "worksheet-0",
    "slideshow": {
     "slide_type": "-"
    }
   },
   "outputs": [],
   "source": [
    "df_dict = {}\n",
    "for method in ['van', 'hvm']:\n",
    "  df_dict[method] = {}\n",
    "  for system_size in log_dict[method].keys():\n",
    "    df_dict[method][system_size] = {}\n",
    "    for beta in log_dict[method][system_size].keys():\n",
    "#      if beta != 1.0:\n",
    "      df = pd.read_csv(\n",
    "        log_dict[method][system_size][beta],\n",
    "        header=None,\n",
    "        usecols=range(2),\n",
    "        names=['step', 'free_energy'])\n",
    "      if method == 'van':\n",
    "        df.step = df.step.apply(lambda x: int(x.split('=')[1]))\n",
    "        df.free_energy = df.free_energy.apply(lambda x: float(x.split('=')[1]))\n",
    "      # convert using 6h runtime to timepoints\n",
    "      df['time'] = df.step * (6 * 60 * 60 / df.step.values[-1])\n",
    "      df_dict[method][system_size][beta] = df"
   ]
  },
  {
   "cell_type": "code",
   "execution_count": 9,
   "metadata": {
    "autoscroll": false,
    "ein.hycell": false,
    "ein.tags": "worksheet-0",
    "slideshow": {
     "slide_type": "-"
    }
   },
   "outputs": [],
   "source": [
    "labels = {'van': 'VAN', 'hvm': 'HVM'}\n",
    "linestyle = {'van': '--', 'hvm': '-'}\n",
    "palettes = {'van': sns.light_palette('orange', reverse=True, n_colors=4),\n",
    "            'hvm': sns.light_palette('blue', reverse=True, n_colors=4)}\n",
    "sizes_to_plot = [16, 32, 64]\n",
    "for beta in df_dict['hvm'][16].keys():\n",
    "  fig, ax = plt.subplots(figsize=(5 * 1.618, 5))\n",
    "  for method in ['hvm', 'van']:\n",
    "    for i, system_size in enumerate(sizes_to_plot):\n",
    "      df = df_dict[method][system_size][beta]\n",
    "      label = f'{labels[method]} L={system_size}'\n",
    "      ax.plot(df.time.values / 60 / 60,\n",
    "                  df.free_energy.values,\n",
    "                  label=label,\n",
    "                  color=palettes[method][i],\n",
    "                  linestyle=linestyle[method],\n",
    "      )\n",
    "  ax.legend()\n",
    "  ax.set_ylim([-2.2, -0.5])\n",
    "  ax.set_xlim([0, 6])\n",
    "  ax.set(xlabel='Time (hours)', ylabel='Free energy')\n",
    "  ax.yaxis.grid()\n",
    "  sns.despine(right=True, left=True)\n",
    "  plt.savefig(f'../../doc/notes/hierarchical-elbo/fig/{name}_beta={beta}.pdf', bbox_inches='tight')\n",
    "  plt.close()\n"
   ]
  },
  {
   "cell_type": "code",
   "execution_count": 1,
   "metadata": {
    "autoscroll": false,
    "ein.hycell": false,
    "ein.tags": "worksheet-0",
    "slideshow": {
     "slide_type": "-"
    }
   },
   "outputs": [
    {
     "data": {
      "text/plain": [
       "'='"
      ]
     },
     "execution_count": 1,
     "metadata": {},
     "output_type": "execute_result"
    }
   ],
   "source": [
    "'=10'.rstrip('10')"
   ]
  },
  {
   "cell_type": "code",
   "execution_count": null,
   "metadata": {
    "autoscroll": false,
    "ein.hycell": false,
    "ein.tags": "worksheet-0",
    "slideshow": {
     "slide_type": "-"
    }
   },
   "outputs": [],
   "source": [
    "d"
   ]
  }
 ],
 "metadata": {
  "kernelspec": {
   "display_name": "Python 3",
   "language": "python",
   "name": "python3"
  },
  "language_info": {
   "codemirror_mode": {
    "name": "ipython",
    "version": 3
   },
   "file_extension": ".py",
   "mimetype": "text/x-python",
   "name": "python",
   "nbconvert_exporter": "python",
   "pygments_lexer": "ipython3",
   "version": "3.6.9"
  },
  "name": "plot-relative-error-vs-time.ipynb"
 },
 "nbformat": 4,
 "nbformat_minor": 2
}
